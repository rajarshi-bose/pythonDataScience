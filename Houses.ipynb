{
 "cells": [
  {
   "cell_type": "code",
   "execution_count": 1,
   "id": "4d9da9a9",
   "metadata": {},
   "outputs": [],
   "source": [
    "import pandas as pd\n",
    "import numpy as np\n",
    "import os.path\n"
   ]
  },
  {
   "cell_type": "code",
   "execution_count": 6,
   "id": "ae0bdde9",
   "metadata": {},
   "outputs": [
    {
     "name": "stdout",
     "output_type": "stream",
     "text": [
      "    number         name   dob  lived_until\n",
      "0        1   MarkRothko  1945         2006\n",
      "1        2   Archemedes  1943         2392\n",
      "2        3      DaVinci  1976         2056\n",
      "3        4  JackKerouac  1965         2076\n",
      "4        5   SylviaPath  1932         2049\n",
      "5        6  Bottechelli  1971         2049\n",
      "6        7     Einstein  1954         2048\n",
      "7        8    NeilsBohr  1943         2048\n",
      "8        9   Pythagoras  1892         2578\n",
      "9       10  WaltWhitman  1932         2005\n",
      "10      11  AdolfHitler  1900         1945\n",
      "11      12       PolPot  1829         1955\n",
      "12      13  Rockafeller  1957         2050\n"
     ]
    }
   ],
   "source": [
    "houses = pd.read_csv('houses',skiprows=0,sep=',',header=0)\n",
    "print(houses.to_string())"
   ]
  },
  {
   "cell_type": "code",
   "execution_count": 100,
   "id": "7c461eac",
   "metadata": {},
   "outputs": [
    {
     "name": "stdout",
     "output_type": "stream",
     "text": [
      "    number         name   dob  lived_until  agedeath\n",
      "0        1   MarkRothko  1945         2006        61\n",
      "1        2   Archemedes  1943         2392       449\n",
      "2        3      DaVinci  1976         2056        80\n",
      "3        4  JackKerouac  1965         2076       111\n",
      "4        5   SylviaPath  1932         2049       117\n",
      "5        6  Bottechelli  1971         2049        78\n",
      "6        7     Einstein  1954         2048        94\n",
      "7        8    NeilsBohr  1943         2048       105\n",
      "8        9   Pythagoras  1892         2578       686\n",
      "9       10  WaltWhitman  1932         2005        73\n",
      "10      11  AdolfHitler  1900         1945        45\n",
      "11      12       PolPot  1829         1955       126\n",
      "12      13  Rockafeller  1957         2050        93\n"
     ]
    }
   ],
   "source": [
    "houses['agedeath'] = houses['lived_until'] -houses['dob']\n",
    "'''for x in houses.index:\n",
    "  if houses.loc[x, \"dob\"] > 50:\n",
    "    houses.loc[x, \"dob\"] = 100'''\n",
    "print(houses.to_string())"
   ]
  },
  {
   "cell_type": "code",
   "execution_count": 101,
   "id": "168680de",
   "metadata": {},
   "outputs": [
    {
     "name": "stdout",
     "output_type": "stream",
     "text": [
      "   number         name   dob  lived_until  agedeath\n",
      "0       1   MarkRothko  1945         2006        61\n",
      "1       2   Archemedes  1943         2392       449\n",
      "4       5   SylviaPath  1932         2049       117\n",
      "6       7     Einstein  1954         2048        94\n",
      "7       8    NeilsBohr  1943         2048       105\n",
      "8       9   Pythagoras  1892         2578       686\n",
      "9      10  WaltWhitman  1932         2005        73\n"
     ]
    }
   ],
   "source": [
    "#eliminate anyone that wasn't alive in 1956\n",
    "eliminateab = houses[(houses.dob<=1956) & (houses.lived_until>=1956)]\n",
    "print(eliminateab)"
   ]
  },
  {
   "cell_type": "code",
   "execution_count": 78,
   "id": "8860a29f",
   "metadata": {},
   "outputs": [
    {
     "name": "stdout",
     "output_type": "stream",
     "text": [
      "7 people alive in 1956\n"
     ]
    }
   ],
   "source": [
    "number_of_people = eliminateab.name.value_counts()\n",
    "print(len(eliminateab.index),\"people alive in 1956\")"
   ]
  },
  {
   "cell_type": "code",
   "execution_count": 117,
   "id": "47a01a48",
   "metadata": {},
   "outputs": [
    {
     "name": "stdout",
     "output_type": "stream",
     "text": [
      "    number         name   dob  lived_until  agedeath  age1956\n",
      "0        1   MarkRothko  1945         2006        61       11\n",
      "1        2   Archemedes  1943         2392       449       13\n",
      "2        3      DaVinci  1976         2056        80      -20\n",
      "3        4  JackKerouac  1965         2076       111       -9\n",
      "4        5   SylviaPath  1932         2049       117       24\n",
      "5        6  Bottechelli  1971         2049        78      -15\n",
      "6        7     Einstein  1954         2048        94        2\n",
      "7        8    NeilsBohr  1943         2048       105       13\n",
      "8        9   Pythagoras  1892         2578       686       64\n",
      "9       10  WaltWhitman  1932         2005        73       24\n",
      "10      11  AdolfHitler  1900         1945        45       56\n",
      "11      12       PolPot  1829         1955       126      127\n",
      "12      13  Rockafeller  1957         2050        93       -1\n"
     ]
    }
   ],
   "source": [
    "#Add new coloumn to display age of person in 1956 from original dataframe\n",
    "houses['age1956'] = (1956) -houses['dob']\n",
    "print(houses.to_string())"
   ]
  },
  {
   "cell_type": "code",
   "execution_count": 121,
   "id": "7b8fcfcb",
   "metadata": {},
   "outputs": [
    {
     "name": "stdout",
     "output_type": "stream",
     "text": [
      "    number         name   dob  lived_until  agedeath  age1956\n",
      "0        1   MarkRothko  1945         2006        61       11\n",
      "1        2   Archemedes  1943         2392       449       13\n",
      "4        5   SylviaPath  1932         2049       117       24\n",
      "6        7     Einstein  1954         2048        94        2\n",
      "7        8    NeilsBohr  1943         2048       105       13\n",
      "8        9   Pythagoras  1892         2578       686       64\n",
      "9       10  WaltWhitman  1932         2005        73       24\n",
      "10      11  AdolfHitler  1900         1945        45       56\n",
      "11      12       PolPot  1829         1955       126      127\n"
     ]
    }
   ],
   "source": [
    "#New dataset displaying people eliminated based on negative ages at 1956\n",
    "eliminated = houses['age1956'] >= 0.0\n",
    "eliminatedhouses = houses[eliminated]\n",
    "print(eliminatedhouses.to_string())"
   ]
  },
  {
   "cell_type": "code",
   "execution_count": 127,
   "id": "b8b0396d",
   "metadata": {},
   "outputs": [
    {
     "data": {
      "text/plain": [
       "(1.874, 27.0]     6\n",
       "(27.0, 52.0]      0\n",
       "(52.0, 77.0]      2\n",
       "(77.0, 102.0]     0\n",
       "(102.0, 127.0]    1\n",
       "Name: age1956, dtype: int64"
      ]
     },
     "execution_count": 127,
     "metadata": {},
     "output_type": "execute_result"
    }
   ],
   "source": [
    "#Count number of people that were the same age range in 1956\n",
    "number_of_age = eliminatedhouses.age1956.value_counts(bins=5).sort_index()\n",
    "number_of_age.head()"
   ]
  },
  {
   "cell_type": "code",
   "execution_count": 130,
   "id": "5a1d8835",
   "metadata": {},
   "outputs": [
    {
     "data": {
      "text/plain": [
       "127    1\n",
       "64     1\n",
       "56     1\n",
       "24     2\n",
       "13     2\n",
       "Name: age1956, dtype: int64"
      ]
     },
     "execution_count": 130,
     "metadata": {},
     "output_type": "execute_result"
    }
   ],
   "source": [
    "number_of_age = eliminatedhouses.age1956.value_counts().sort_index(ascending=False)\n",
    "number_of_age.head()"
   ]
  },
  {
   "cell_type": "code",
   "execution_count": 135,
   "id": "de4f448a",
   "metadata": {},
   "outputs": [
    {
     "name": "stdout",
     "output_type": "stream",
     "text": [
      "The oldest person in 1956 was 127\n"
     ]
    }
   ],
   "source": [
    "#hi\n",
    "maxAgeAt1956 = None\n",
    "maxAgeAt1956 = houses['age1956'].max()\n",
    "print(\"The oldest person in 1956 was\",maxAgeAt1956)"
   ]
  },
  {
   "cell_type": "code",
   "execution_count": null,
   "id": "14b65b81",
   "metadata": {},
   "outputs": [],
   "source": []
  }
 ],
 "metadata": {
  "kernelspec": {
   "display_name": "Python 3",
   "language": "python",
   "name": "python3"
  },
  "language_info": {
   "codemirror_mode": {
    "name": "ipython",
    "version": 3
   },
   "file_extension": ".py",
   "mimetype": "text/x-python",
   "name": "python",
   "nbconvert_exporter": "python",
   "pygments_lexer": "ipython3",
   "version": "3.8.8"
  }
 },
 "nbformat": 4,
 "nbformat_minor": 5
}
