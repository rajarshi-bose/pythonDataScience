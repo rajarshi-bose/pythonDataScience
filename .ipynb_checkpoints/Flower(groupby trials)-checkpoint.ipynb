{
 "cells": [
  {
   "cell_type": "code",
   "execution_count": 2,
   "id": "d052db02",
   "metadata": {},
   "outputs": [],
   "source": [
    "import pandas as pd\n",
    "import numpy as np\n",
    "import os.path"
   ]
  },
  {
   "cell_type": "code",
   "execution_count": 3,
   "id": "ad2ac2cf",
   "metadata": {},
   "outputs": [
    {
     "name": "stdout",
     "output_type": "stream",
     "text": [
      "    store-id flower_type  price  season  year  zone  sold\n",
      "0          1        rose   36.0  summer  2021     5    47\n",
      "1          2        rose   36.4  winter  2022     5    76\n",
      "2          3      azelea   23.0  summer  2017     6    65\n",
      "3          4        rose   34.0  summer  2010     5    54\n",
      "4          5        rose   38.0  winter  2009     6    23\n",
      "5          2      azelea   45.0  summer  2007     4    34\n",
      "6          3      azelea   45.7  summer  2005     4    45\n",
      "7          5        rose   57.0  winter  2001     5    45\n",
      "8          4      yarrow   14.0  summer  2001     4    56\n",
      "9          1      yarrow   13.0  summer  1999     4    67\n",
      "10         2        rose   41.0  winter  2013     8    89\n",
      "11         5      yarrow   17.8  winter  2005     4    78\n",
      "12         4      azelea   34.0  summer  2002     7    67\n",
      "13         2        rose   67.0  summer  2015     7    56\n"
     ]
    }
   ],
   "source": [
    "newflower = pd.read_csv('flowers',skiprows=0,sep=',',header=0)\n",
    "print(newflower)"
   ]
  },
  {
   "cell_type": "code",
   "execution_count": 4,
   "id": "19dd38e9",
   "metadata": {
    "scrolled": true
   },
   "outputs": [
    {
     "name": "stdout",
     "output_type": "stream",
     "text": [
      "rose      7\n",
      "azelea    4\n",
      "yarrow    3\n",
      "Name: flower_type, dtype: int64\n"
     ]
    }
   ],
   "source": [
    "type_of_flower = newflower.flower_type.value_counts()\n",
    "print(type_of_flower)"
   ]
  },
  {
   "cell_type": "code",
   "execution_count": 5,
   "id": "326c4a39",
   "metadata": {},
   "outputs": [
    {
     "name": "stdout",
     "output_type": "stream",
     "text": [
      "    store-id flower_type  price  season  year  zone  sold\n",
      "0          1        rose   36.0  summer  2021     5    47\n",
      "1          2        rose   36.4  winter  2022     5    76\n",
      "3          4        rose   34.0  summer  2010     5    54\n",
      "4          5        rose   38.0  winter  2009     6    23\n",
      "7          5        rose   57.0  winter  2001     5    45\n",
      "10         2        rose   41.0  winter  2013     8    89\n",
      "13         2        rose   67.0  summer  2015     7    56\n",
      "year  flower_type\n",
      "2001  rose           57.0\n",
      "2009  rose           38.0\n",
      "2010  rose           34.0\n",
      "2013  rose           41.0\n",
      "2015  rose           67.0\n",
      "2021  rose           36.0\n",
      "2022  rose           36.4\n",
      "Name: price, dtype: float64\n"
     ]
    }
   ],
   "source": [
    "rosePrice = newflower[newflower.flower_type.str.contains(\"rose\")==True]\n",
    "print(rosePrice)\n",
    "maxRose = rosePrice.groupby(['year','flower_type'])['price'].agg(\"sum\")\n",
    "print(maxRose)"
   ]
  },
  {
   "cell_type": "code",
   "execution_count": 6,
   "id": "b3066362",
   "metadata": {},
   "outputs": [
    {
     "data": {
      "text/plain": [
       "(2015, 'rose')"
      ]
     },
     "execution_count": 6,
     "metadata": {},
     "output_type": "execute_result"
    }
   ],
   "source": [
    "maxRose.idxmax()"
   ]
  },
  {
   "cell_type": "code",
   "execution_count": 7,
   "id": "35077cae",
   "metadata": {},
   "outputs": [
    {
     "name": "stdout",
     "output_type": "stream",
     "text": [
      "    store-id flower_type  price  season  year  zone  sold\n",
      "0          1        rose   36.0  summer  2021     5    47\n",
      "2          3      azelea   23.0  summer  2017     6    65\n",
      "3          4        rose   34.0  summer  2010     5    54\n",
      "5          2      azelea   45.0  summer  2007     4    34\n",
      "6          3      azelea   45.7  summer  2005     4    45\n",
      "8          4      yarrow   14.0  summer  2001     4    56\n",
      "9          1      yarrow   13.0  summer  1999     4    67\n",
      "12         4      azelea   34.0  summer  2002     7    67\n",
      "13         2        rose   67.0  summer  2015     7    56\n",
      "__________________________________________________________\n",
      "flower_type\n",
      "azelea    211\n",
      "rose      157\n",
      "yarrow    123\n",
      "Name: sold, dtype: int64\n",
      "__________________________________________\n",
      "azelea is the most popular flower in the summer\n"
     ]
    }
   ],
   "source": [
    "#Find most popular flower in the summer/ most sold in summer\n",
    "summerFlower = newflower[newflower.season.str.contains(\"summer\")==True]\n",
    "print(summerFlower)\n",
    "print(\"__________________________________________________________\")\n",
    "maxSoldFlowerSummer = summerFlower.groupby(['flower_type'])['sold'].agg(sum)\n",
    "print(maxSoldFlowerSummer)\n",
    "print(\"__________________________________________\")\n",
    "print(maxSoldFlowerSummer.idxmax(),\"is the most popular flower in the summer\")"
   ]
  },
  {
   "cell_type": "code",
   "execution_count": 8,
   "id": "317a1a1b",
   "metadata": {},
   "outputs": [
    {
     "name": "stdout",
     "output_type": "stream",
     "text": [
      "store-id\n",
      "1    114\n",
      "2     90\n",
      "3    110\n",
      "4    177\n",
      "Name: sold, dtype: int64\n",
      "__________________________________________\n",
      "store with ID 4 sold the most in the summer\n"
     ]
    }
   ],
   "source": [
    "maxSoldStoreSummer = summerFlower.groupby(['store-id'])['sold'].agg(sum)\n",
    "print(maxSoldStoreSummer)\n",
    "print(\"__________________________________________\")\n",
    "print(\"store with ID\",maxSoldStoreSummer.idxmax(),\"sold the most in the summer\")"
   ]
  },
  {
   "cell_type": "code",
   "execution_count": 9,
   "id": "9d014532",
   "metadata": {},
   "outputs": [
    {
     "name": "stdout",
     "output_type": "stream",
     "text": [
      "year  store-id\n",
      "1999  1           67\n",
      "2001  4           56\n",
      "      5           45\n",
      "2002  4           67\n",
      "2005  3           45\n",
      "      5           78\n",
      "2007  2           34\n",
      "2009  5           23\n",
      "2010  4           54\n",
      "2013  2           89\n",
      "2015  2           56\n",
      "2017  3           65\n",
      "2021  1           47\n",
      "2022  2           76\n",
      "Name: sold, dtype: int64\n",
      "(2013, 2)\n"
     ]
    }
   ],
   "source": [
    "maxSoldStoreYear = newflower.groupby(['year','store-id'])['sold'].agg(\"sum\")\n",
    "print(maxSoldStoreYear)\n",
    "print(maxSoldStoreYear.idxmax())"
   ]
  },
  {
   "cell_type": "code",
   "execution_count": 10,
   "id": "71033736",
   "metadata": {},
   "outputs": [
    {
     "name": "stdout",
     "output_type": "stream",
     "text": [
      "flower_type\n",
      "azelea    211\n",
      "rose      157\n",
      "yarrow    123\n",
      "Name: sold, dtype: int64\n",
      "__________________________________________\n",
      "azelea is the most popular flower in the summer\n",
      "    store-id flower_type  price  season  year  zone  sold\n",
      "2          3      azelea   23.0  summer  2017     6    65\n",
      "5          2      azelea   45.0  summer  2007     4    34\n",
      "6          3      azelea   45.7  summer  2005     4    45\n",
      "12         4      azelea   34.0  summer  2002     7    67\n",
      "store-id  year\n",
      "2         2007    34\n",
      "3         2005    45\n",
      "          2017    65\n",
      "4         2002    67\n",
      "Name: sold, dtype: int64\n",
      "(4, 2002) store in the year sold the most flowers in summer\n"
     ]
    }
   ],
   "source": [
    "maxSoldFlowerSummer = summerFlower.groupby(['flower_type'])['sold'].agg(sum)\n",
    "print(maxSoldFlowerSummer)\n",
    "print(\"__________________________________________\")\n",
    "maxSoldFlowerNameSummer = maxSoldFlowerSummer.idxmax()\n",
    "print(maxSoldFlowerSummer.idxmax(),\"is the most popular flower in the summer\")\n",
    "mostSummerFlower = summerFlower[summerFlower.flower_type.str.contains(maxSoldFlowerNameSummer)==True]\n",
    "print(mostSummerFlower)\n",
    "maxSoldStoreYearSummerMostSummerFlower = mostSummerFlower.groupby(['store-id','year'])['sold'].agg(\"sum\")\n",
    "print(maxSoldStoreYearSummerMostSummerFlower)\n",
    "print(maxSoldStoreYearSummerMostSummerFlower.idxmax(),\"store in the year sold the most flowers in summer\")"
   ]
  },
  {
   "cell_type": "code",
   "execution_count": 13,
   "id": "dfc77cf8",
   "metadata": {},
   "outputs": [
    {
     "name": "stdout",
     "output_type": "stream",
     "text": [
      "    store-id flower_type  price  season  year  zone  sold\n",
      "1          2        rose   36.4  winter  2022     5    76\n",
      "4          5        rose   38.0  winter  2009     6    23\n",
      "7          5        rose   57.0  winter  2001     5    45\n",
      "10         2        rose   41.0  winter  2013     8    89\n",
      "11         5      yarrow   17.8  winter  2005     4    78\n",
      "__________________________________________________________\n",
      "flower_type\n",
      "rose      233\n",
      "yarrow     78\n",
      "Name: sold, dtype: int64\n",
      "__________________________________________\n",
      "rose is the most popular flower in the winter\n"
     ]
    }
   ],
   "source": [
    "#Find most popular flower in the winter/ most sold in winter\n",
    "winterFlower = newflower[newflower.season.str.contains(\"winter\")==True]\n",
    "print(winterFlower)\n",
    "print(\"__________________________________________________________\")\n",
    "maxSoldFlowerWinter = winterFlower.groupby(['flower_type'])['sold'].agg(sum)\n",
    "print(maxSoldFlowerWinter)\n",
    "print(\"__________________________________________\")\n",
    "print(maxSoldFlowerWinter.idxmax(),\"is the most popular flower in the winter\")"
   ]
  },
  {
   "cell_type": "code",
   "execution_count": null,
   "id": "5b32a4bd",
   "metadata": {},
   "outputs": [],
   "source": []
  }
 ],
 "metadata": {
  "kernelspec": {
   "display_name": "Python 3",
   "language": "python",
   "name": "python3"
  },
  "language_info": {
   "codemirror_mode": {
    "name": "ipython",
    "version": 3
   },
   "file_extension": ".py",
   "mimetype": "text/x-python",
   "name": "python",
   "nbconvert_exporter": "python",
   "pygments_lexer": "ipython3",
   "version": "3.8.8"
  }
 },
 "nbformat": 4,
 "nbformat_minor": 5
}
