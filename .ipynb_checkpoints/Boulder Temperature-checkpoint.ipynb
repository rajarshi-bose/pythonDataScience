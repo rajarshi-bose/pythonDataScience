{
 "cells": [
  {
   "cell_type": "code",
   "execution_count": 2,
   "id": "94f89f02",
   "metadata": {},
   "outputs": [],
   "source": [
    "import pandas as pd\n",
    "import numpy as np\n",
    "import os.path\n",
    "\n"
   ]
  },
  {
   "cell_type": "code",
   "execution_count": null,
   "id": "2a144ee0",
   "metadata": {},
   "outputs": [],
   "source": [
    "\n"
   ]
  },
  {
   "cell_type": "code",
   "execution_count": 3,
   "id": "08602b8a",
   "metadata": {
    "scrolled": false
   },
   "outputs": [
    {
     "name": "stdout",
     "output_type": "stream",
     "text": [
      "                maximum_temp  minimum_temp\n",
      "year month day                            \n",
      "1897 5     1              71            49\n",
      "           2              71            54\n",
      "           3              67            48\n",
      "           4              69            46\n",
      "           5              68            51\n",
      "...                      ...           ...\n",
      "2018 7     26             81            55\n",
      "           27             80            56\n",
      "           28             77            56\n",
      "           29             75            52\n",
      "           30             77            51\n",
      "\n",
      "[44253 rows x 2 columns]\n"
     ]
    }
   ],
   "source": [
    "temparature_df = pd.read_csv('boulder_temperature.txt',header=None,sep=r\"\\s+\",usecols=[0,1,2,3,4],index_col=[0,1,2],names=[\"year\", \"month\", \"day\", \"maximum_temp\", \"minimum_temp\"])\n",
    "print(temparature_df)"
   ]
  },
  {
   "cell_type": "code",
   "execution_count": 4,
   "id": "7bec7728",
   "metadata": {},
   "outputs": [
    {
     "name": "stdout",
     "output_type": "stream",
     "text": [
      "                precipitation  snow\n",
      "year month day                     \n",
      "1948 8     1             0.01   0.0\n",
      "           2             0.01   0.0\n",
      "           3             0.02   0.0\n",
      "           4             0.12   0.0\n",
      "           5             0.04   0.0\n",
      "...                       ...   ...\n",
      "2018 7     26            0.07   0.0\n",
      "           27            0.35   0.0\n",
      "           28            0.01   0.0\n",
      "           29            0.04   0.0\n",
      "           30            0.00   0.0\n",
      "\n",
      "[25608 rows x 2 columns]\n"
     ]
    }
   ],
   "source": [
    "precipitation_df = pd.read_csv('boulder_precipitation.txt',header=None,sep=r\"\\s+\",usecols=[0,1,2,3,4],index_col=[0,1,2],names=[\"year\", \"month\", \"day\", \"precipitation\",  \"snow\", \"snow_cover\"])\n",
    "print(precipitation_df)"
   ]
  },
  {
   "cell_type": "code",
   "execution_count": 5,
   "id": "29b30af5",
   "metadata": {},
   "outputs": [
    {
     "ename": "SyntaxError",
     "evalue": "invalid syntax (<ipython-input-5-2105413fbf5e>, line 1)",
     "output_type": "error",
     "traceback": [
      "\u001b[1;36m  File \u001b[1;32m\"<ipython-input-5-2105413fbf5e>\"\u001b[1;36m, line \u001b[1;32m1\u001b[0m\n\u001b[1;33m    For merging : how='outer’,.sort_values(['year', 'month', 'day'], ascending=False)\\\u001b[0m\n\u001b[1;37m        ^\u001b[0m\n\u001b[1;31mSyntaxError\u001b[0m\u001b[1;31m:\u001b[0m invalid syntax\n"
     ]
    }
   ],
   "source": [
    "\n",
    "For merging : how='outer’,.sort_values(['year', 'month', 'day'], ascending=False)\\\n",
    "                                .fillna(0)\n"
   ]
  },
  {
   "cell_type": "code",
   "execution_count": 6,
   "id": "c5296799",
   "metadata": {},
   "outputs": [
    {
     "name": "stdout",
     "output_type": "stream",
     "text": [
      "                maximum_temp  minimum_temp  precipitation  snow\n",
      "year month day                                                 \n",
      "1897 5     1              71            49            NaN   NaN\n",
      "           2              71            54            NaN   NaN\n",
      "           3              67            48            NaN   NaN\n",
      "           4              69            46            NaN   NaN\n",
      "           5              68            51            NaN   NaN\n",
      "...                      ...           ...            ...   ...\n",
      "2018 7     26             81            55           0.07   0.0\n",
      "           27             80            56           0.35   0.0\n",
      "           28             77            56           0.01   0.0\n",
      "           29             75            52           0.04   0.0\n",
      "           30             77            51           0.00   0.0\n",
      "\n",
      "[44253 rows x 4 columns]\n"
     ]
    }
   ],
   "source": [
    "Whole_df = temparature_df.merge(precipitation_df,how='outer',on=['year', 'month', 'day'])\n",
    "print(Whole_df)"
   ]
  },
  {
   "cell_type": "code",
   "execution_count": 7,
   "id": "5f2d4fbd",
   "metadata": {},
   "outputs": [],
   "source": [
    "Whole_df.to_csv(r'tempprecip.txt', header=None, index=None, sep=',')"
   ]
  },
  {
   "cell_type": "code",
   "execution_count": 8,
   "id": "bd8b1b43",
   "metadata": {},
   "outputs": [
    {
     "name": "stdout",
     "output_type": "stream",
     "text": [
      "                maximum_temp  minimum_temp  precipitation  snow\n",
      "year month day                                                 \n",
      "1897 5     1              71            49           0.00   0.0\n",
      "           2              71            54           0.00   0.0\n",
      "           3              67            48           0.00   0.0\n",
      "           4              69            46           0.00   0.0\n",
      "           5              68            51           0.00   0.0\n",
      "...                      ...           ...            ...   ...\n",
      "2018 7     26             81            55           0.07   0.0\n",
      "           27             80            56           0.35   0.0\n",
      "           28             77            56           0.01   0.0\n",
      "           29             75            52           0.04   0.0\n",
      "           30             77            51           0.00   0.0\n",
      "\n",
      "[44253 rows x 4 columns]\n"
     ]
    }
   ],
   "source": [
    "Whole_df = Whole_df.fillna(0)\n",
    "print(Whole_df)"
   ]
  },
  {
   "cell_type": "code",
   "execution_count": 9,
   "id": "265e3669",
   "metadata": {},
   "outputs": [
    {
     "name": "stdout",
     "output_type": "stream",
     "text": [
      "                maximum_temp  minimum_temp  precipitation  snow\n",
      "year month day                                                 \n",
      "2018 7     30             77            51           0.00   0.0\n",
      "           29             75            52           0.04   0.0\n",
      "           28             77            56           0.01   0.0\n",
      "           27             80            56           0.35   0.0\n",
      "           26             81            55           0.07   0.0\n",
      "...                      ...           ...            ...   ...\n",
      "1897 5     5              68            51           0.00   0.0\n",
      "           4              69            46           0.00   0.0\n",
      "           3              67            48           0.00   0.0\n",
      "           2              71            54           0.00   0.0\n",
      "           1              71            49           0.00   0.0\n",
      "\n",
      "[44253 rows x 4 columns]\n"
     ]
    }
   ],
   "source": [
    "Whole_df.sort_values(by=['year','month','day'], inplace=True, ascending=False)\n",
    "print(Whole_df)"
   ]
  },
  {
   "cell_type": "code",
   "execution_count": 11,
   "id": "cab8a4ce",
   "metadata": {},
   "outputs": [
    {
     "name": "stdout",
     "output_type": "stream",
     "text": [
      "                maximum_temp  minimum_temp  precipitation  snow\n",
      "year month day                                                 \n",
      "2018 7     30             77            51           0.00   0.0\n",
      "           29             75            52           0.04   0.0\n",
      "           28             77            56           0.01   0.0\n",
      "           27             80            56           0.35   0.0\n",
      "           26             81            55           0.07   0.0\n",
      "...                      ...           ...            ...   ...\n",
      "2008 1     5              61            38        -999.00   0.0\n",
      "           4              56            41           0.00   0.0\n",
      "           3              57            24           0.00   0.0\n",
      "           2              39             7           0.00   0.0\n",
      "           1              30            12           0.00   0.0\n",
      "\n",
      "[3872 rows x 4 columns]\n"
     ]
    }
   ],
   "source": [
    "#Finding maximum value in year coloumn after making it return a list. Then making a query with last decade\n",
    "yearlist = Whole_df.index.get_level_values('year')\n",
    "maxval = yearlist[1]\n",
    "minval = maxval - 10\n",
    " \n",
    "rangedf = Whole_df.query('year >= '+ str(minval))\n",
    "print(rangedf)"
   ]
  },
  {
   "cell_type": "code",
   "execution_count": 22,
   "id": "f2225201",
   "metadata": {},
   "outputs": [
    {
     "name": "stdout",
     "output_type": "stream",
     "text": [
      "            maximum_temp  minimum_temp  precipitation        snow\n",
      "year month                                                       \n",
      "2008 1         43.419355     19.838710    -193.340000 -128.570968\n",
      "     2         49.517241     22.689655    -241.116207 -206.331034\n",
      "     3         54.032258     27.483871     -96.630000  -63.883871\n",
      "     4         63.033333     32.566667     -99.862333  -99.636667\n",
      "     5         71.580645     42.483871    -128.767419  -64.429032\n",
      "...                  ...           ...            ...         ...\n",
      "2018 3         57.935484     28.774194       0.071935  -32.006452\n",
      "     4         64.666667     33.533333    -133.155000 -133.000000\n",
      "     5         73.516129     45.903226     -64.298065    0.000000\n",
      "     6         86.000000     53.700000     -99.839333    0.000000\n",
      "     7         88.266667     57.066667     -99.838667    0.000000\n",
      "\n",
      "[127 rows x 4 columns]\n"
     ]
    }
   ],
   "source": [
    "#Finds average max and min temperatures for each month for last 10 years\n",
    "d1 = {'maximum_temp': 'max', 'minimum_temp': 'min', 'precipitation': 'sum', 'snow': 'sum'}\n",
    "d2 = {'maximum_temp': 'mean', 'minimum_temp': 'mean', 'precipitation': 'mean', 'snow': 'mean'}\n",
    "\n",
    "meandf = rangedf.groupby(['year','month']).agg(d2)\n",
    "#meanDFtwo = rangedf.groupby(['year','month'])['maximum_temp','minimum_temp','precipitation','snow'].aggregate('mean')\n",
    "print(meandf)\n",
    "\n"
   ]
  },
  {
   "cell_type": "code",
   "execution_count": 24,
   "id": "f6e611c6",
   "metadata": {},
   "outputs": [
    {
     "name": "stdout",
     "output_type": "stream",
     "text": [
      "           maximum_temp  minimum_temp  precipitation        snow\n",
      "month day                                                       \n",
      "1     1       37.363636     15.545455       0.000909    0.009091\n",
      "      2       46.090909     16.090909       0.000000    0.000000\n",
      "      3       46.000000     19.727273       0.005455    0.109091\n",
      "      4       42.909091     17.545455       0.073636    1.600000\n",
      "      5       46.181818     19.272727     -90.749091    0.936364\n",
      "...                 ...           ...            ...         ...\n",
      "12    27      41.600000     13.000000    -199.799000 -199.790000\n",
      "      28      46.300000     20.500000    -199.800000  -99.890000\n",
      "      29      42.800000     19.800000       0.019000    0.480000\n",
      "      30      44.600000     17.800000     -99.859000    0.830000\n",
      "      31      39.400000     12.900000     -99.885000  -99.660000\n",
      "\n",
      "[366 rows x 4 columns]\n"
     ]
    }
   ],
   "source": [
    "#Finds average max and min temperatures for each day for last 10 years\n",
    "meanDFbyday = rangedf.groupby(['month','day']).agg(d2)\n",
    "print(meanDFbyday)"
   ]
  },
  {
   "cell_type": "code",
   "execution_count": null,
   "id": "a0712860",
   "metadata": {},
   "outputs": [],
   "source": []
  }
 ],
 "metadata": {
  "kernelspec": {
   "display_name": "Python 3",
   "language": "python",
   "name": "python3"
  },
  "language_info": {
   "codemirror_mode": {
    "name": "ipython",
    "version": 3
   },
   "file_extension": ".py",
   "mimetype": "text/x-python",
   "name": "python",
   "nbconvert_exporter": "python",
   "pygments_lexer": "ipython3",
   "version": "3.8.8"
  }
 },
 "nbformat": 4,
 "nbformat_minor": 5
}
