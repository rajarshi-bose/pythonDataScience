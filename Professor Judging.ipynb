{
 "cells": [
  {
   "cell_type": "code",
   "execution_count": 282,
   "id": "260269ac",
   "metadata": {},
   "outputs": [],
   "source": [
    "import pandas as pd\n",
    "import numpy as np\n",
    "import os.path\n",
    "import matplotlib.pyplot as plt"
   ]
  },
  {
   "cell_type": "code",
   "execution_count": 283,
   "id": "a5f7d43d",
   "metadata": {},
   "outputs": [
    {
     "name": "stdout",
     "output_type": "stream",
     "text": [
      "    Year Semester        Prof    GPA  Section   A\n",
      "0   2022     FALL     MANES C  2.857      822   0\n",
      "1   2022     FALL     MANES C  3.250      821   2\n",
      "2   2022     FALL    COOPER R  4.000      534  22\n",
      "3   2022     FALL    MCCOUL M  3.143      533   7\n",
      "4   2022     FALL    MCCOUL M  3.050      531   8\n",
      "..   ...      ...         ...    ...      ...  ..\n",
      "92  2020     FALL  MITCHELL A  3.250      506   8\n",
      "93  2020     FALL      NAIR D  3.300      505   9\n",
      "94  2020     FALL    COOPER R  3.476      503  15\n",
      "95  2020     FALL    COOPER R  3.250      502   9\n",
      "96  2020     FALL    COOPER R  3.750      501  16\n",
      "\n",
      "[97 rows x 6 columns]\n"
     ]
    }
   ],
   "source": [
    "professor = pd.read_csv('ENGL104',skiprows=0,sep=',',header=0)\n",
    "print(professor)"
   ]
  },
  {
   "cell_type": "code",
   "execution_count": 284,
   "id": "45f8fc69",
   "metadata": {
    "scrolled": true
   },
   "outputs": [
    {
     "name": "stdout",
     "output_type": "stream",
     "text": [
      "NAIR D           11\n",
      "MANES C          10\n",
      "COOPER R          7\n",
      "MCCOUL M          6\n",
      "PANTUSO T         5\n",
      "BACA M            3\n",
      "SNYDER C          2\n",
      "KIM S             2\n",
      "JONES L           2\n",
      "INOCENCIO G       2\n",
      "HESSEL MIAL M     2\n",
      "BARROS A          2\n",
      "AHMED A           2\n",
      "CANNON M          2\n",
      "CHO H             2\n",
      "SALLAH E          2\n",
      "PERKINS M         1\n",
      "YORK K            1\n",
      "PLUMMER J         1\n",
      "BOWLING H         1\n",
      "OROZCO A          1\n",
      "TODD D            1\n",
      "GONZALEZ J        1\n",
      "BELCHER C         1\n",
      "PAYNE S           1\n",
      "KNEITLY J         1\n",
      "WIERENGA A        1\n",
      "MITRA P           1\n",
      "MCCABE C          1\n",
      "NANDI S           1\n",
      "JO H              1\n",
      "ROZIER J          1\n",
      "FRANCIS J         1\n",
      "SNYDER C (H)      1\n",
      "PETERSON N        1\n",
      "RIGGINS Z         1\n",
      "TRENT C           1\n",
      "ROGERS J          1\n",
      "JEON S            1\n",
      "MITCHELL A        1\n",
      "DAFRE A           1\n",
      "CEBALLOS A        1\n",
      "CORTEZ J          1\n",
      "THIELMAN F        1\n",
      "LEE S             1\n",
      "BITGOOD N         1\n",
      "LOVE J            1\n",
      "PATTISON K        1\n",
      "EVANS M           1\n",
      "EMBREE D          1\n",
      "CHO J             1\n",
      "Name: Prof, dtype: int64\n"
     ]
    }
   ],
   "source": [
    "profcount = professor.Prof.value_counts()\n",
    "print(profcount)"
   ]
  },
  {
   "cell_type": "code",
   "execution_count": 292,
   "id": "da603928",
   "metadata": {},
   "outputs": [
    {
     "name": "stdout",
     "output_type": "stream",
     "text": [
      "             Prof       GPA\n",
      "47        TRENT C  3.955000\n",
      "39      PLUMMER J  3.909000\n",
      "19         JEON S  3.857000\n",
      "30        MITRA P  3.850000\n",
      "8           CHO H  3.810000\n",
      "38     PETERSON N  3.800000\n",
      "18    INOCENCIO G  3.744500\n",
      "20           JO H  3.727000\n",
      "12        DAFRE A  3.727000\n",
      "16     GONZALEZ J  3.727000\n",
      "36        PAYNE S  3.700000\n",
      "6        CANNON M  3.700000\n",
      "7      CEBALLOS A  3.682000\n",
      "4       BITGOOD N  3.682000\n",
      "41       ROGERS J  3.682000\n",
      "43       SALLAH E  3.679000\n",
      "1          BACA M  3.609333\n",
      "25         LOVE J  3.591000\n",
      "44       SNYDER C  3.569500\n",
      "23      KNEITLY J  3.545000\n",
      "27       MCCABE C  3.524000\n",
      "42       ROZIER J  3.500000\n",
      "33       OROZCO A  3.500000\n",
      "22          KIM S  3.489500\n",
      "10       COOPER R  3.485714\n",
      "31         NAIR D  3.479091\n",
      "48     WIERENGA A  3.476000\n",
      "37      PERKINS M  3.409000\n",
      "49         YORK K  3.409000\n",
      "45     THIELMAN F  3.381000\n",
      "17  HESSEL MIAL M  3.381000\n",
      "32        NANDI S  3.368000\n",
      "0         AHMED A  3.333000\n",
      "35     PATTISON K  3.333000\n",
      "26        MANES C  3.329200\n",
      "34      PANTUSO T  3.328000\n",
      "15      FRANCIS J  3.318000\n",
      "46         TODD D  3.318000\n",
      "29     MITCHELL A  3.250000\n",
      "24          LEE S  3.238000\n",
      "11       CORTEZ J  3.200000\n",
      "2        BARROS A  3.158000\n",
      "5       BOWLING H  3.150000\n",
      "3       BELCHER C  3.050000\n",
      "28       MCCOUL M  2.958667\n",
      "21        JONES L  2.895000\n",
      "14        EVANS M  2.842000\n",
      "40      RIGGINS Z  2.818000\n",
      "9           CHO J  2.727000\n",
      "13       EMBREE D  2.556000\n",
      "______________________________________________________\n",
      "TRENT C 's classes average the highest GPAs Fall\n",
      "______________________________________________________\n"
     ]
    }
   ],
   "source": [
    "FallGrades = professor[professor.Semester.str.contains(\"FALL\")==True]\n",
    "GPACompare = FallGrades.groupby(['Prof'])['GPA'].agg(\"mean\")\n",
    "GPACompare_df = GPACompare.reset_index()\n",
    "SortedGPACompare = GPACompare_df.sort_values(by=['GPA'], ascending=False, inplace=True)\n",
    "print(GPACompare_df)\n",
    "print(\"______________________________________________________\")\n",
    "print(GPACompare.idxmax(),\"'s classes average the highest GPAs Fall\")\n",
    "print(\"______________________________________________________\")"
   ]
  },
  {
   "cell_type": "code",
   "execution_count": 290,
   "id": "14791917",
   "metadata": {},
   "outputs": [
    {
     "data": {
      "image/png": "[encoded data removed]",
      "text/plain": [
       "<Figure size 432x288 with 1 Axes>"
      ]
     },
     "metadata": {
      "needs_background": "light"
     },
     "output_type": "display_data"
    }
   ],
   "source": [
    "#COMPARE TWO PROFESSOR GPA DISTRIBUTIONS\n",
    "Single = FallGrades[FallGrades.Prof.str.contains(\"COOPER R\")==True]\n",
    "ONLYA = Single.drop(['Year','Semester',\"A\",\"Section\"],axis=1)\n",
    "ax = ONLYA.plot.hist(100, 20)"
   ]
  },
  {
   "cell_type": "code",
   "execution_count": 291,
   "id": "9b3834e6",
   "metadata": {},
   "outputs": [
    {
     "data": {
      "image/png": "[encoded data removed]",
      "text/plain": [
       "<Figure size 432x288 with 1 Axes>"
      ]
     },
     "metadata": {
      "needs_background": "light"
     },
     "output_type": "display_data"
    }
   ],
   "source": [
    "Single = FallGrades[FallGrades.Prof.str.contains(\"MANES C\")==True]\n",
    "ONLYA = Single.drop(['Year','Semester',\"A\",\"Section\"],axis=1)\n",
    "ax = ONLYA.plot.hist(100, 20)"
   ]
  },
  {
   "cell_type": "code",
   "execution_count": null,
   "id": "e404119a",
   "metadata": {},
   "outputs": [],
   "source": []
  }
 ],
 "metadata": {
  "kernelspec": {
   "display_name": "Python 3",
   "language": "python",
   "name": "python3"
  },
  "language_info": {
   "codemirror_mode": {
    "name": "ipython",
    "version": 3
   },
   "file_extension": ".py",
   "mimetype": "text/x-python",
   "name": "python",
   "nbconvert_exporter": "python",
   "pygments_lexer": "ipython3",
   "version": "3.8.8"
  }
 },
 "nbformat": 4,
 "nbformat_minor": 5
}
