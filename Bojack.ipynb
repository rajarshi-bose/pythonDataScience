{
 "cells": [
  {
   "cell_type": "code",
   "execution_count": 13,
   "id": "6795f0aa",
   "metadata": {},
   "outputs": [],
   "source": [
    "import pandas as pd\n",
    "import numpy as np\n",
    "import os.path\n",
    "import matplotlib.pyplot as plt\n",
    "from random import randint"
   ]
  },
  {
   "cell_type": "code",
   "execution_count": 26,
   "id": "fb3f51a2",
   "metadata": {},
   "outputs": [
    {
     "name": "stdout",
     "output_type": "stream",
     "text": [
      "    ID         First          Last  Birth   Death\n",
      "0    1        Bojack      Horseman   1975     NaN\n",
      "1    2      Princess      Caroline   1975     NaN\n",
      "2    3      Beatrice      Horseman   1950  2018.0\n",
      "3    4  Butterscotch      Horseman   1949  2000.0\n",
      "4    5         Sarah          Lynn   1990  2016.0\n",
      "5    6       Cracker          Jack   1935  1955.0\n",
      "6    7          Herb        Kazazz   1975  2010.0\n",
      "7    8         Diane         Ngyen   1985     NaN\n",
      "8    9           Mr.  PeanutButter   1980     NaN\n",
      "9   10         Margo    Martindale   1900     NaN\n",
      "10  11         Jesus        Christ      0     NaN\n"
     ]
    }
   ],
   "source": [
    "characters = pd.read_csv('bojackshow',skiprows=0,sep=',',header=0)\n",
    "print(characters)"
   ]
  },
  {
   "cell_type": "code",
   "execution_count": 27,
   "id": "c692aa2e",
   "metadata": {},
   "outputs": [
    {
     "name": "stdout",
     "output_type": "stream",
     "text": [
      "    ID         First          Last  Birth   Death  Lived\n",
      "0    1        Bojack      Horseman   1975     NaN    NaN\n",
      "1    2      Princess      Caroline   1975     NaN    NaN\n",
      "2    3      Beatrice      Horseman   1950  2018.0   68.0\n",
      "3    4  Butterscotch      Horseman   1949  2000.0   51.0\n",
      "4    5         Sarah          Lynn   1990  2016.0   26.0\n",
      "5    6       Cracker          Jack   1935  1955.0   20.0\n",
      "6    7          Herb        Kazazz   1975  2010.0   35.0\n",
      "7    8         Diane         Ngyen   1985     NaN    NaN\n",
      "8    9           Mr.  PeanutButter   1980     NaN    NaN\n",
      "9   10         Margo    Martindale   1900     NaN    NaN\n",
      "10  11         Jesus        Christ      0     NaN    NaN\n"
     ]
    }
   ],
   "source": [
    "characters['Lived'] = characters['Death'] - characters['Birth']\n",
    "print(characters)"
   ]
  },
  {
   "cell_type": "code",
   "execution_count": 32,
   "id": "7568e168",
   "metadata": {},
   "outputs": [
    {
     "name": "stdout",
     "output_type": "stream",
     "text": [
      "    ID         First          Last  Birth   Death   Lived\n",
      "0    1        Bojack      Horseman   1975     NaN    48.0\n",
      "1    2      Princess      Caroline   1975     NaN    48.0\n",
      "2    3      Beatrice      Horseman   1950  2018.0    68.0\n",
      "3    4  Butterscotch      Horseman   1949  2000.0    51.0\n",
      "4    5         Sarah          Lynn   1990  2016.0    26.0\n",
      "5    6       Cracker          Jack   1935  1955.0    20.0\n",
      "6    7          Herb        Kazazz   1975  2010.0    35.0\n",
      "7    8         Diane         Ngyen   1985     NaN    38.0\n",
      "8    9           Mr.  PeanutButter   1980     NaN    43.0\n",
      "9   10         Margo    Martindale   1900     NaN   123.0\n",
      "10  11         Jesus        Christ      0     NaN  2023.0\n"
     ]
    }
   ],
   "source": [
    "#Years = characters.Lived.fillna(2023 - characters['Birth'])\n",
    "#print(Years)\n",
    "#years = characters.replace(characters.Lived.nan, 2023 - characters['Birth'])\n",
    "characters['Lived'] =  characters['Lived'].fillna(2023 - characters['Birth'])\n",
    "print(characters)"
   ]
  },
  {
   "cell_type": "code",
   "execution_count": 33,
   "id": "1fcda29d",
   "metadata": {},
   "outputs": [],
   "source": [
    "#living = characters.dropna()\n",
    "#print(living)"
   ]
  },
  {
   "cell_type": "code",
   "execution_count": 41,
   "id": "597e2bf3",
   "metadata": {},
   "outputs": [
    {
     "name": "stdout",
     "output_type": "stream",
     "text": [
      "    ID     First          Last  Birth  Death   Lived\n",
      "0    1    Bojack      Horseman   1975    NaN    48.0\n",
      "1    2  Princess      Caroline   1975    NaN    48.0\n",
      "7    8     Diane         Ngyen   1985    NaN    38.0\n",
      "8    9       Mr.  PeanutButter   1980    NaN    43.0\n",
      "9   10     Margo    Martindale   1900    NaN   123.0\n",
      "10  11     Jesus        Christ      0    NaN  2023.0\n",
      "_____________________________\n",
      "These people are still alive\n"
     ]
    }
   ],
   "source": [
    "living = characters[characters['Death'].isnull()]\n",
    "print(living)\n",
    "print(\"_____________________________\")\n",
    "print(\"These people are still alive\")"
   ]
  },
  {
   "cell_type": "code",
   "execution_count": 39,
   "id": "49fec6e0",
   "metadata": {},
   "outputs": [
    {
     "name": "stdout",
     "output_type": "stream",
     "text": [
      "    ID  First        Last  Birth  Death   Lived\n",
      "9   10  Margo  Martindale   1900    NaN   123.0\n",
      "10  11  Jesus      Christ      0    NaN  2023.0\n",
      "_______________________________________________\n",
      "These people are older than 70 and still alive\n"
     ]
    }
   ],
   "source": [
    "living70 = living[living['Lived'] > 70]\n",
    "print(living70)\n",
    "print(\"_______________________________________________\")\n",
    "print(\"These people are older than 70 and still alive\")"
   ]
  },
  {
   "cell_type": "code",
   "execution_count": null,
   "id": "45d8f15b",
   "metadata": {},
   "outputs": [],
   "source": []
  }
 ],
 "metadata": {
  "kernelspec": {
   "display_name": "Python 3",
   "language": "python",
   "name": "python3"
  },
  "language_info": {
   "codemirror_mode": {
    "name": "ipython",
    "version": 3
   },
   "file_extension": ".py",
   "mimetype": "text/x-python",
   "name": "python",
   "nbconvert_exporter": "python",
   "pygments_lexer": "ipython3",
   "version": "3.8.8"
  }
 },
 "nbformat": 4,
 "nbformat_minor": 5
}
